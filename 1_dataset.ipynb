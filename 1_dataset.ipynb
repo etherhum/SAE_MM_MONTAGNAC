{
 "cells": [
  {
   "cell_type": "markdown",
   "id": "0a361880",
   "metadata": {},
   "source": [
    "# Reconnaissance faciale via $k$ plus proches voisins ($k$-NN)\n",
    "\n",
    ">## Partie 1: Dataset"
   ]
  },
  {
   "cell_type": "markdown",
   "id": "9a9f35df",
   "metadata": {},
   "source": [
    "## Librairies"
   ]
  },
  {
   "cell_type": "markdown",
   "id": "d691df55",
   "metadata": {},
   "source": [
    "- La librairie `cv2` permet la détection automatique de visages, entre autres.\n",
    "\n",
    "- La librairie `pickle` permet de sauvegarder vos modèles une fois entraînés, et de les recharger pour pouvoir les utiliser."
   ]
  },
  {
   "cell_type": "code",
   "execution_count": 1,
   "id": "8a41298c",
   "metadata": {
    "ExecuteTime": {
     "end_time": "2024-02-29T12:45:35.978575Z",
     "start_time": "2024-02-29T12:45:35.411364Z"
    }
   },
   "outputs": [],
   "source": [
    "import os\n",
    "\n",
    "import cv2\n",
    "import pickle\n",
    "\n",
    "import numpy as np\n",
    "\n",
    "import matplotlib.pyplot as plt"
   ]
  },
  {
   "cell_type": "markdown",
   "id": "2089bbe3",
   "metadata": {},
   "source": [
    "## Création du dataset"
   ]
  },
  {
   "cell_type": "markdown",
   "id": "b0183880",
   "metadata": {},
   "source": [
    "Le code suivant permet de créer un **dataset** d'images que vous utiliserez dans votre projet de **reconnaissance faciale**. Ce dataset contiendra des images de vous-même associées à votre nom ainsi que des images d'autres personnes (par exemple vos camarades) associées à leurs noms. **À chaque fois que vos relancez le code ci-dessous, votre caméra capture 10 images de la personne qui se trouve devant vootre PC et ajoute ces dernières à votre dataset.** \n",
    "\n",
    "Le code effectue les opérations suivantes. Premièrement, on lit le flux vidéo de votre caméra et on détecte automatiquement les visages dans chaque image de ce flux en utilisant le **classificateur en cascade de Haar (Haar cascade classifier)** de la librairie `OpenCV`. \n",
    "\n",
    "Plus précisément, tant que la variable `ret` est vraie, indiquant que le flux vidéo est lu correctement, pour chaque image capturée par la caméras, on effectue les opérations suivantes:\n",
    "1. on convertit l'image en niveaux de gris;\n",
    "2. on détecte les coordonnées du visage en utilisant le classificateur en cascade de Haar;\n",
    "3. on recadre la région du visage et la redimensionne en $50 \\times 50$ pixels;\n",
    "4. on ajoute l'image du visage redimensionné à la liste `donnees_visage`, à chaque intervalle de $10$ images.\n",
    "\n",
    "Une fois que $10$ images de votre visage ont été collecteés, ou si l'utilisateur appuye sur la touche `Esc`, on met fin à la boucle et enregistre les images dans la liste `donnees_visage` sous forme d'un tableau `NumPy`.\n",
    "\n",
    "Par la suite, l'existence des fichiers `noms.pkl` et `visages.pkl` est vérifiée. S'ils n'existent pas, de nouveaux fichiers sont créés, la variable `nom` est enregistrée dans `noms.pkl` et les données de visage sont enregistrées dans `visages.pkl`. Si ces fichiers existent déjà, le code charge les données existantes, ajoute les nouvelles données de visage et noms, et les réenregistre le tout dans ces fichiers."
   ]
  },
  {
   "cell_type": "code",
   "execution_count": 20,
   "id": "1ba3a98f",
   "metadata": {
    "ExecuteTime": {
     "end_time": "2024-02-29T12:51:07.449098Z",
     "start_time": "2024-02-29T12:50:49.011003Z"
    }
   },
   "outputs": [],
   "source": [
    "# ================== #\n",
    "# Variables globales #\n",
    "# ================== #\n",
    "if not os.path.exists(\"data\"):\n",
    "    os.mkdir(\"data\")         # création d'un répertoire data\n",
    "\n",
    "nb_images_collectees = 10    # nombre d'image que vous voulez collecter\n",
    "donnees_visage = []\n",
    "camera = cv2.VideoCapture(0) # 0 pour 'built-in' caméra, 1 pour caméra externe\n",
    "cascade_visage = cv2.CascadeClassifier(cv2.data.haarcascades + 'haarcascade_frontalface_default.xml')\n",
    "\n",
    "# =============================== #\n",
    "# Capture des data: nom et images #\n",
    "# =============================== #\n",
    "nom = input(\"Entrez votre nom: \")\n",
    "statut = input(\"Entrez votre statut 'admis' ou 'non_admis': \")\n",
    "nom = nom + \":\" + statut\n",
    "ret = True\n",
    "i = 0\n",
    "while(ret):\n",
    "    ret, frame = camera.read()\n",
    "    if ret == True:\n",
    "        gris = cv2.cvtColor(frame, cv2.COLOR_BGR2GRAY)\n",
    "        coordonnees_visage = cascade_visage.detectMultiScale(gris, 1.3, 4)\n",
    "        for (a, b, w, h) in coordonnees_visage:\n",
    "            visages = frame[b:b+h, a:a+w, :]\n",
    "            visages_redimensionnes = cv2.resize(visages, (50, 50))\n",
    "            if i % 10 == 0 and len(donnees_visage) < nb_images_collectees:\n",
    "                donnees_visage.append(visages_redimensionnes)\n",
    "            cv2.rectangle(frame, (a, b), (a+w, b+h), (255, 0, 0), 2)\n",
    "        i += 1\n",
    "        cv2.imshow('Visages', frame)\n",
    "        if cv2.waitKey(1) == 27 or len(donnees_visage) >= nb_images_collectees:   \n",
    "            break\n",
    "    else:\n",
    "        print('erreur')\n",
    "        break\n",
    "    \n",
    "cv2.destroyAllWindows()\n",
    "for i in range (1,5):\n",
    "    cv2.waitKey(1)\n",
    "camera.release()\n",
    "\n",
    "donnees_visage = np.asarray(donnees_visage)\n",
    "# donnees_visage = donnees_visage.reshape(10, -1)\n",
    "\n",
    "# ====================================== #\n",
    "# Enregistrement des data: nom et images #\n",
    "# ====================================== #\n",
    "if 'noms.pkl' not in os.listdir('data/'):\n",
    "    noms = [nom]*10\n",
    "    with open('data/noms.pkl', 'wb') as file:\n",
    "        pickle.dump(noms, file)\n",
    "else:\n",
    "    with open('data/noms.pkl', 'rb') as file:\n",
    "        noms = pickle.load(file)\n",
    "    noms = noms + [nom]*10\n",
    "    with open('data/noms.pkl', 'wb') as file:\n",
    "        pickle.dump(noms, file)\n",
    "\n",
    "if 'visages.pkl' not in os.listdir('data/'):\n",
    "    with open('data/visages.pkl', 'wb') as w:\n",
    "        pickle.dump(donnees_visage, w)\n",
    "else:\n",
    "    with open('data/visages.pkl', 'rb') as w:\n",
    "        visages = pickle.load(w)\n",
    "    visages = np.append(visages, donnees_visage, axis=0)\n",
    "    with open('data/visages.pkl', 'wb') as w:\n",
    "        pickle.dump(visages, w)"
   ]
  },
  {
   "cell_type": "markdown",
   "id": "e3bec3e0",
   "metadata": {},
   "source": [
    "## Visualisation du dataset"
   ]
  },
  {
   "cell_type": "markdown",
   "id": "08df3d2c",
   "metadata": {},
   "source": [
    "Le instructions suivantes permettent de loader votre dataset et de comprendre comment sont stockées les data.\n",
    "\n",
    "Prêtez attention aux types de vos data, en particulier à la dimension de vos images, etc."
   ]
  },
  {
   "cell_type": "code",
   "execution_count": 12,
   "id": "c4c5cd3d",
   "metadata": {
    "ExecuteTime": {
     "end_time": "2024-02-29T12:49:16.780681Z",
     "start_time": "2024-02-29T12:49:16.778132Z"
    }
   },
   "outputs": [],
   "source": [
    "with open(\"data/noms.pkl\", \"rb\") as fh:\n",
    "    noms = pickle.load(fh)"
   ]
  },
  {
   "cell_type": "code",
   "execution_count": 13,
   "id": "b3af5a29",
   "metadata": {
    "ExecuteTime": {
     "end_time": "2024-02-29T12:49:17.454498Z",
     "start_time": "2024-02-29T12:49:17.450227Z"
    }
   },
   "outputs": [
    {
     "data": {
      "text/plain": "['pol:admis',\n 'pol:admis',\n 'pol:admis',\n 'pol:admis',\n 'pol:admis',\n 'pol:admis',\n 'pol:admis',\n 'pol:admis',\n 'pol:admis',\n 'pol:admis']"
     },
     "execution_count": 13,
     "metadata": {},
     "output_type": "execute_result"
    }
   ],
   "source": [
    "noms"
   ]
  },
  {
   "cell_type": "code",
   "execution_count": 14,
   "id": "d7fc242c",
   "metadata": {
    "ExecuteTime": {
     "end_time": "2024-02-29T12:49:18.923927Z",
     "start_time": "2024-02-29T12:49:18.920873Z"
    }
   },
   "outputs": [],
   "source": [
    "with open(\"data/visages.pkl\", \"rb\") as fh:\n",
    "    visages = pickle.load(fh)"
   ]
  },
  {
   "cell_type": "code",
   "execution_count": 15,
   "id": "10dab6d3",
   "metadata": {
    "ExecuteTime": {
     "end_time": "2024-02-29T12:49:19.465706Z",
     "start_time": "2024-02-29T12:49:19.463272Z"
    }
   },
   "outputs": [
    {
     "data": {
      "text/plain": "array([[[[ 30,  40,  48],\n         [ 19,  28,  33],\n         [  6,  10,  12],\n         ...,\n         [109, 101,  90],\n         [129, 125, 114],\n         [110, 105,  96]],\n\n        [[ 23,  32,  37],\n         [  6,  10,  12],\n         [  3,   5,   7],\n         ...,\n         [108, 101,  90],\n         [ 98,  94,  83],\n         [127, 123, 111]],\n\n        [[  8,  14,  18],\n         [  6,   9,  11],\n         [  2,   4,   6],\n         ...,\n         [103,  97,  84],\n         [109, 105,  93],\n         [ 75,  73,  65]],\n\n        ...,\n\n        [[  2,   5,   4],\n         [  2,   5,   3],\n         [  1,   5,   4],\n         ...,\n         [150, 154, 158],\n         [155, 159, 163],\n         [123, 127, 131]],\n\n        [[  2,   5,   4],\n         [ 20,  24,  31],\n         [ 49,  56,  69],\n         ...,\n         [129, 137, 143],\n         [ 94, 104, 110],\n         [ 64,  74,  82]],\n\n        [[ 56,  66,  85],\n         [ 57,  71,  89],\n         [ 57,  71,  90],\n         ...,\n         [ 96, 109, 121],\n         [ 91, 103, 114],\n         [ 77,  88, 100]]],\n\n\n       [[[ 35,  49,  62],\n         [ 13,  23,  30],\n         [ 29,  39,  45],\n         ...,\n         [114, 110,  99],\n         [ 75,  74,  70],\n         [ 57,  55,  47]],\n\n        [[ 23,  34,  50],\n         [ 22,  32,  40],\n         [ 21,  31,  39],\n         ...,\n         [ 84,  80,  71],\n         [104, 101,  95],\n         [ 82,  81,  76]],\n\n        [[ 17,  29,  39],\n         [ 23,  33,  42],\n         [ 14,  21,  30],\n         ...,\n         [ 84,  81,  72],\n         [ 86,  83,  77],\n         [109, 109,  99]],\n\n        ...,\n\n        [[ 40,  46,  48],\n         [ 38,  45,  46],\n         [ 40,  43,  45],\n         ...,\n         [129, 136, 154],\n         [144, 153, 170],\n         [138, 147, 159]],\n\n        [[ 29,  35,  35],\n         [ 23,  28,  30],\n         [ 18,  19,  18],\n         ...,\n         [139, 151, 176],\n         [142, 151, 171],\n         [102, 115, 131]],\n\n        [[ 14,  17,  14],\n         [ 19,  26,  33],\n         [ 62,  80, 108],\n         ...,\n         [115, 136, 161],\n         [ 90, 112, 134],\n         [ 78,  97, 120]]],\n\n\n       [[[ 30,  43,  57],\n         [ 26,  39,  50],\n         [ 21,  35,  45],\n         ...,\n         [ 69,  69,  62],\n         [ 51,  45,  34],\n         [ 47,  38,  21]],\n\n        [[ 22,  38,  50],\n         [ 19,  33,  41],\n         [ 21,  34,  42],\n         ...,\n         [ 98,  96,  87],\n         [ 65,  62,  54],\n         [ 49,  40,  25]],\n\n        [[ 18,  32,  41],\n         [ 19,  31,  37],\n         [ 18,  30,  35],\n         ...,\n         [ 80,  78,  69],\n         [ 85,  84,  75],\n         [ 56,  53,  44]],\n\n        ...,\n\n        [[ 39,  45,  49],\n         [ 21,  25,  29],\n         [ 40,  47,  50],\n         ...,\n         [ 23,  33,  39],\n         [ 37,  47,  53],\n         [ 40,  49,  56]],\n\n        [[ 38,  44,  48],\n         [ 35,  42,  45],\n         [ 31,  35,  38],\n         ...,\n         [ 38,  49,  52],\n         [ 44,  52,  56],\n         [ 50,  56,  62]],\n\n        [[ 31,  37,  41],\n         [ 32,  38,  42],\n         [ 32,  36,  39],\n         ...,\n         [115, 127, 144],\n         [127, 140, 159],\n         [133, 149, 164]]],\n\n\n       ...,\n\n\n       [[[129, 133, 133],\n         [118, 121, 114],\n         [114, 117, 111],\n         ...,\n         [ 42,  36,  25],\n         [ 43,  33,  18],\n         [ 44,  34,  19]],\n\n        [[106, 106, 109],\n         [106, 108, 112],\n         [ 68,  78,  85],\n         ...,\n         [ 47,  44,  37],\n         [ 42,  34,  20],\n         [ 43,  33,  18]],\n\n        [[ 91,  93, 102],\n         [ 68,  77,  89],\n         [ 48,  61,  73],\n         ...,\n         [ 63,  60,  57],\n         [ 46,  42,  34],\n         [ 44,  34,  19]],\n\n        ...,\n\n        [[ 30,  33,  32],\n         [ 27,  29,  29],\n         [ 23,  26,  25],\n         ...,\n         [ 13,  19,  25],\n         [ 19,  25,  31],\n         [ 24,  29,  37]],\n\n        [[ 35,  40,  39],\n         [ 30,  35,  35],\n         [ 28,  33,  32],\n         ...,\n         [ 17,  22,  28],\n         [ 18,  24,  30],\n         [ 26,  32,  38]],\n\n        [[ 27,  30,  30],\n         [ 35,  40,  39],\n         [ 32,  37,  36],\n         ...,\n         [ 26,  32,  36],\n         [ 21,  26,  32],\n         [ 26,  29,  36]]],\n\n\n       [[[238, 239, 236],\n         [191, 205, 201],\n         [ 70,  87,  89],\n         ...,\n         [ 65,  62,  58],\n         [ 64,  61,  57],\n         [ 43,  37,  35]],\n\n        [[104, 108, 105],\n         [ 88, 100, 107],\n         [ 43,  56,  59],\n         ...,\n         [ 68,  65,  60],\n         [ 61,  57,  55],\n         [ 60,  54,  52]],\n\n        [[ 46,  58,  62],\n         [ 44,  54,  60],\n         [ 28,  37,  45],\n         ...,\n         [ 60,  56,  52],\n         [ 63,  60,  56],\n         [ 72,  68,  64]],\n\n        ...,\n\n        [[ 21,  21,  21],\n         [ 35,  37,  39],\n         [ 35,  38,  38],\n         ...,\n         [162, 167, 171],\n         [ 64,  77,  87],\n         [ 22,  37,  50]],\n\n        [[ 14,  14,  14],\n         [ 29,  29,  29],\n         [ 32,  32,  33],\n         ...,\n         [191, 198, 199],\n         [165, 171, 175],\n         [ 99, 113, 131]],\n\n        [[  5,   6,   5],\n         [ 16,  16,  16],\n         [ 23,  24,  23],\n         ...,\n         [204, 213, 213],\n         [202, 209, 206],\n         [187, 193, 199]]],\n\n\n       [[[ 18,  27,  28],\n         [ 17,  27,  28],\n         [ 16,  25,  26],\n         ...,\n         [ 60,  51,  43],\n         [ 64,  54,  43],\n         [ 93,  76,  60]],\n\n        [[ 17,  26,  27],\n         [ 17,  26,  27],\n         [ 17,  24,  25],\n         ...,\n         [ 72,  68,  58],\n         [ 61,  53,  42],\n         [ 79,  66,  54]],\n\n        [[ 17,  26,  27],\n         [ 17,  25,  26],\n         [ 14,  21,  23],\n         ...,\n         [ 83,  81,  72],\n         [ 65,  59,  48],\n         [ 68,  60,  49]],\n\n        ...,\n\n        [[ 13,  18,  15],\n         [  5,   9,   3],\n         [  1,   5,   0],\n         ...,\n         [ 21,  24,  19],\n         [ 12,  13,   6],\n         [  9,  11,   4]],\n\n        [[  2,   5,   1],\n         [  2,   5,   4],\n         [ 34,  42,  56],\n         ...,\n         [  9,  11,   4],\n         [  9,  11,   4],\n         [  8,  10,   2]],\n\n        [[ 18,  23,  25],\n         [ 45,  55,  71],\n         [ 68,  85, 114],\n         ...,\n         [  7,   9,   0],\n         [  7,  10,   2],\n         [  7,   9,   1]]]], dtype=uint8)"
     },
     "execution_count": 15,
     "metadata": {},
     "output_type": "execute_result"
    }
   ],
   "source": [
    "visages"
   ]
  },
  {
   "cell_type": "code",
   "execution_count": 16,
   "id": "a8436555",
   "metadata": {
    "ExecuteTime": {
     "end_time": "2024-02-29T12:49:20.209898Z",
     "start_time": "2024-02-29T12:49:20.206931Z"
    }
   },
   "outputs": [
    {
     "data": {
      "text/plain": "(10, 50, 50, 3)"
     },
     "execution_count": 16,
     "metadata": {},
     "output_type": "execute_result"
    }
   ],
   "source": [
    "visages.shape"
   ]
  },
  {
   "cell_type": "code",
   "execution_count": 17,
   "id": "1ef19a8e",
   "metadata": {
    "ExecuteTime": {
     "end_time": "2024-02-29T12:49:20.786942Z",
     "start_time": "2024-02-29T12:49:20.784420Z"
    }
   },
   "outputs": [
    {
     "data": {
      "text/plain": "(50, 50, 3)"
     },
     "execution_count": 17,
     "metadata": {},
     "output_type": "execute_result"
    }
   ],
   "source": [
    "sample_1 = visages[0]\n",
    "sample_1.shape"
   ]
  },
  {
   "cell_type": "code",
   "execution_count": 18,
   "id": "c3539263",
   "metadata": {
    "ExecuteTime": {
     "end_time": "2024-02-29T12:49:21.821926Z",
     "start_time": "2024-02-29T12:49:21.736070Z"
    }
   },
   "outputs": [
    {
     "data": {
      "text/plain": "<matplotlib.image.AxesImage at 0x1745a4f10>"
     },
     "execution_count": 18,
     "metadata": {},
     "output_type": "execute_result"
    },
    {
     "data": {
      "text/plain": "<Figure size 640x480 with 1 Axes>",
      "image/png": "[encoded data removed]"
     },
     "metadata": {},
     "output_type": "display_data"
    }
   ],
   "source": [
    "plt.imshow(sample_1, interpolation=\"nearest\")"
   ]
  },
  {
   "cell_type": "code",
   "execution_count": 19,
   "id": "ac4aaef1",
   "metadata": {
    "ExecuteTime": {
     "end_time": "2024-02-29T12:49:22.832510Z",
     "start_time": "2024-02-29T12:49:22.829863Z"
    }
   },
   "outputs": [
    {
     "data": {
      "text/plain": "(50, 50, 3)"
     },
     "execution_count": 19,
     "metadata": {},
     "output_type": "execute_result"
    }
   ],
   "source": [
    "sample_2 = visages[5]\n",
    "sample_2.shape"
   ]
  },
  {
   "cell_type": "code",
   "execution_count": 21,
   "id": "ed489bfa",
   "metadata": {
    "ExecuteTime": {
     "end_time": "2024-02-26T14:04:36.975337Z",
     "start_time": "2024-02-26T14:04:36.923397Z"
    }
   },
   "outputs": [
    {
     "data": {
      "text/plain": "<matplotlib.image.AxesImage at 0x14ea37690>"
     },
     "execution_count": 21,
     "metadata": {},
     "output_type": "execute_result"
    },
    {
     "data": {
      "text/plain": "<Figure size 640x480 with 1 Axes>",
      "image/png": "[encoded data removed]"
     },
     "metadata": {},
     "output_type": "display_data"
    }
   ],
   "source": [
    "plt.imshow(sample_2, interpolation=\"nearest\")"
   ]
  },
  {
   "cell_type": "code",
   "execution_count": null,
   "id": "06a26147",
   "metadata": {},
   "outputs": [],
   "source": []
  }
 ],
 "metadata": {
  "kernelspec": {
   "name": "python3",
   "language": "python",
   "display_name": "Python 3 (ipykernel)"
  },
  "language_info": {
   "codemirror_mode": {
    "name": "ipython",
    "version": 3
   },
   "file_extension": ".py",
   "mimetype": "text/x-python",
   "name": "python",
   "nbconvert_exporter": "python",
   "pygments_lexer": "ipython3",
   "version": "3.9.5"
  }
 },
 "nbformat": 4,
 "nbformat_minor": 5
}
