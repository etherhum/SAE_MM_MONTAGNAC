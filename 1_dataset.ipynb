{
 "cells": [
  {
   "cell_type": "markdown",
   "id": "0a361880",
   "metadata": {},
   "source": [
    "# Reconnaissance faciale via $k$ plus proches voisins ($k$-NN)\n",
    "\n",
    ">## Partie 1: Dataset"
   ]
  },
  {
   "cell_type": "markdown",
   "id": "9a9f35df",
   "metadata": {},
   "source": [
    "## Librairies"
   ]
  },
  {
   "cell_type": "markdown",
   "id": "d691df55",
   "metadata": {},
   "source": [
    "- La librairie `cv2` permet la détection automatique de visages, entre autres.\n",
    "\n",
    "- La librairie `pickle` permet de sauvegarder vos modèles une fois entraînés, et de les recharger pour pouvoir les utiliser."
   ]
  },
  {
   "cell_type": "code",
   "execution_count": 1,
   "id": "8a41298c",
   "metadata": {
    "ExecuteTime": {
     "end_time": "2024-02-26T14:02:50.651592Z",
     "start_time": "2024-02-26T14:02:50.304090Z"
    }
   },
   "outputs": [],
   "source": [
    "import os\n",
    "\n",
    "import cv2\n",
    "import pickle\n",
    "\n",
    "import numpy as np\n",
    "\n",
    "import matplotlib.pyplot as plt"
   ]
  },
  {
   "cell_type": "markdown",
   "id": "2089bbe3",
   "metadata": {},
   "source": [
    "## Création du dataset"
   ]
  },
  {
   "cell_type": "markdown",
   "id": "b0183880",
   "metadata": {},
   "source": [
    "Le code suivant permet de créer un **dataset** d'images que vous utiliserez dans votre projet de **reconnaissance faciale**. Ce dataset contiendra des images de vous-même associées à votre nom ainsi que des images d'autres personnes (par exemple vos camarades) associées à leurs noms. **À chaque fois que vos relancez le code ci-dessous, votre caméra capture 10 images de la personne qui se trouve devant vootre PC et ajoute ces dernières à votre dataset.** \n",
    "\n",
    "Le code effectue les opérations suivantes. Premièrement, on lit le flux vidéo de votre caméra et on détecte automatiquement les visages dans chaque image de ce flux en utilisant le **classificateur en cascade de Haar (Haar cascade classifier)** de la librairie `OpenCV`. \n",
    "\n",
    "Plus précisément, tant que la variable `ret` est vraie, indiquant que le flux vidéo est lu correctement, pour chaque image capturée par la caméras, on effectue les opérations suivantes:\n",
    "1. on convertit l'image en niveaux de gris;\n",
    "2. on détecte les coordonnées du visage en utilisant le classificateur en cascade de Haar;\n",
    "3. on recadre la région du visage et la redimensionne en $50 \\times 50$ pixels;\n",
    "4. on ajoute l'image du visage redimensionné à la liste `donnees_visage`, à chaque intervalle de $10$ images.\n",
    "\n",
    "Une fois que $10$ images de votre visage ont été collecteés, ou si l'utilisateur appuye sur la touche `Esc`, on met fin à la boucle et enregistre les images dans la liste `donnees_visage` sous forme d'un tableau `NumPy`.\n",
    "\n",
    "Par la suite, l'existence des fichiers `noms.pkl` et `visages.pkl` est vérifiée. S'ils n'existent pas, de nouveaux fichiers sont créés, la variable `nom` est enregistrée dans `noms.pkl` et les données de visage sont enregistrées dans `visages.pkl`. Si ces fichiers existent déjà, le code charge les données existantes, ajoute les nouvelles données de visage et noms, et les réenregistre le tout dans ces fichiers."
   ]
  },
  {
   "cell_type": "code",
   "execution_count": 12,
   "id": "1ba3a98f",
   "metadata": {
    "ExecuteTime": {
     "end_time": "2024-02-26T14:04:17.198792Z",
     "start_time": "2024-02-26T14:04:07.860986Z"
    }
   },
   "outputs": [],
   "source": [
    "# ================== #\n",
    "# Variables globales #\n",
    "# ================== #\n",
    "if not os.path.exists(\"data\"):\n",
    "    os.mkdir(\"data\")         # création d'un répertoire data\n",
    "\n",
    "nb_images_collectees = 10    # nombre d'image que vous voulez collecter\n",
    "donnees_visage = []\n",
    "camera = cv2.VideoCapture(0) # 0 pour 'built-in' caméra, 1 pour caméra externe\n",
    "cascade_visage = cv2.CascadeClassifier(cv2.data.haarcascades + 'haarcascade_frontalface_default.xml')\n",
    "\n",
    "# =============================== #\n",
    "# Capture des data: nom et images #\n",
    "# =============================== #\n",
    "nom = input(\"Entrez votre nom: \")\n",
    "ret = True\n",
    "i = 0\n",
    "while(ret):\n",
    "    ret, frame = camera.read()\n",
    "    if ret == True:\n",
    "        gris = cv2.cvtColor(frame, cv2.COLOR_BGR2GRAY)\n",
    "        coordonnees_visage = cascade_visage.detectMultiScale(gris, 1.3, 4)\n",
    "        for (a, b, w, h) in coordonnees_visage:\n",
    "            visages = frame[b:b+h, a:a+w, :]\n",
    "            visages_redimensionnes = cv2.resize(visages, (50, 50))\n",
    "            if i % 10 == 0 and len(donnees_visage) < nb_images_collectees:\n",
    "                donnees_visage.append(visages_redimensionnes)\n",
    "            cv2.rectangle(frame, (a, b), (a+w, b+h), (255, 0, 0), 2)\n",
    "        i += 1\n",
    "        cv2.imshow('Visages', frame)\n",
    "        if cv2.waitKey(1) == 27 or len(donnees_visage) >= nb_images_collectees:   \n",
    "            break\n",
    "    else:\n",
    "        print('erreur')\n",
    "        break\n",
    "    \n",
    "cv2.destroyAllWindows()\n",
    "for i in range (1,5):\n",
    "    cv2.waitKey(1)\n",
    "camera.release()\n",
    "\n",
    "donnees_visage = np.asarray(donnees_visage)\n",
    "# donnees_visage = donnees_visage.reshape(10, -1)\n",
    "\n",
    "# ====================================== #\n",
    "# Enregistrement des data: nom et images #\n",
    "# ====================================== #\n",
    "if 'noms.pkl' not in os.listdir('data/'):\n",
    "    noms = [nom]*10\n",
    "    with open('data/noms.pkl', 'wb') as file:\n",
    "        pickle.dump(noms, file)\n",
    "else:\n",
    "    with open('data/noms.pkl', 'rb') as file:\n",
    "        noms = pickle.load(file)\n",
    "    noms = noms + [nom]*10\n",
    "    with open('data/noms.pkl', 'wb') as file:\n",
    "        pickle.dump(noms, file)\n",
    "\n",
    "if 'visages.pkl' not in os.listdir('data/'):\n",
    "    with open('data/visages.pkl', 'wb') as w:\n",
    "        pickle.dump(donnees_visage, w)\n",
    "else:\n",
    "    with open('data/visages.pkl', 'rb') as w:\n",
    "        visages = pickle.load(w)\n",
    "    visages = np.append(visages, donnees_visage, axis=0)\n",
    "    with open('data/visages.pkl', 'wb') as w:\n",
    "        pickle.dump(visages, w)"
   ]
  },
  {
   "cell_type": "markdown",
   "id": "e3bec3e0",
   "metadata": {},
   "source": [
    "## Visualisation du dataset"
   ]
  },
  {
   "cell_type": "markdown",
   "id": "08df3d2c",
   "metadata": {},
   "source": [
    "Le instructions suivantes permettent de loader votre dataset et de comprendre comment sont stockées les data.\n",
    "\n",
    "Prêtez attention aux types de vos data, en particulier à la dimension de vos images, etc."
   ]
  },
  {
   "cell_type": "code",
   "execution_count": 13,
   "id": "c4c5cd3d",
   "metadata": {
    "ExecuteTime": {
     "end_time": "2024-02-26T14:04:30.867622Z",
     "start_time": "2024-02-26T14:04:30.862935Z"
    }
   },
   "outputs": [],
   "source": [
    "with open(\"data/noms.pkl\", \"rb\") as fh:\n",
    "    noms = pickle.load(fh)"
   ]
  },
  {
   "cell_type": "code",
   "execution_count": 14,
   "id": "b3af5a29",
   "metadata": {
    "ExecuteTime": {
     "end_time": "2024-02-26T14:04:32.001472Z",
     "start_time": "2024-02-26T14:04:31.997161Z"
    }
   },
   "outputs": [
    {
     "data": {
      "text/plain": "['Pol',\n 'Pol',\n 'Pol',\n 'Pol',\n 'Pol',\n 'Pol',\n 'Pol',\n 'Pol',\n 'Pol',\n 'Pol',\n 'Paul',\n 'Paul',\n 'Paul',\n 'Paul',\n 'Paul',\n 'Paul',\n 'Paul',\n 'Paul',\n 'Paul',\n 'Paul',\n 'Paul',\n 'Paul',\n 'Paul',\n 'Paul',\n 'Paul',\n 'Paul',\n 'Paul',\n 'Paul',\n 'Paul',\n 'Paul',\n 'Paul',\n 'Paul',\n 'Paul',\n 'Paul',\n 'Paul',\n 'Paul',\n 'Paul',\n 'Paul',\n 'Paul',\n 'Paul',\n 'Pol',\n 'Pol',\n 'Pol',\n 'Pol',\n 'Pol',\n 'Pol',\n 'Pol',\n 'Pol',\n 'Pol',\n 'Pol',\n 'Paul',\n 'Paul',\n 'Paul',\n 'Paul',\n 'Paul',\n 'Paul',\n 'Paul',\n 'Paul',\n 'Paul',\n 'Paul']"
     },
     "execution_count": 14,
     "metadata": {},
     "output_type": "execute_result"
    }
   ],
   "source": [
    "noms"
   ]
  },
  {
   "cell_type": "code",
   "execution_count": 15,
   "id": "d7fc242c",
   "metadata": {
    "ExecuteTime": {
     "end_time": "2024-02-26T14:04:32.847535Z",
     "start_time": "2024-02-26T14:04:32.845122Z"
    }
   },
   "outputs": [],
   "source": [
    "with open(\"data/visages.pkl\", \"rb\") as fh:\n",
    "    visages = pickle.load(fh)"
   ]
  },
  {
   "cell_type": "code",
   "execution_count": 16,
   "id": "10dab6d3",
   "metadata": {
    "ExecuteTime": {
     "end_time": "2024-02-26T14:04:33.451966Z",
     "start_time": "2024-02-26T14:04:33.446933Z"
    }
   },
   "outputs": [
    {
     "data": {
      "text/plain": "array([[[[ 39,  46,  68],\n         [ 30,  35,  53],\n         [  3,   4,  18],\n         ...,\n         [ 28,  33,  42],\n         [ 42,  48,  55],\n         [ 15,  19,  33]],\n\n        [[ 26,  29,  47],\n         [ 20,  24,  40],\n         [  1,   3,  15],\n         ...,\n         [ 32,  37,  45],\n         [ 48,  53,  59],\n         [ 34,  39,  49]],\n\n        [[  9,   9,  27],\n         [  5,   9,  24],\n         [  1,   3,  16],\n         ...,\n         [ 41,  49,  57],\n         [ 45,  50,  59],\n         [ 31,  35,  46]],\n\n        ...,\n\n        [[ 34,  51,  73],\n         [ 10,  22,  37],\n         [  5,  12,  24],\n         ...,\n         [  8,  12,  24],\n         [ 11,  17,  27],\n         [  8,  15,  25]],\n\n        [[ 53,  71, 101],\n         [ 44,  59,  86],\n         [ 19,  30,  48],\n         ...,\n         [ 13,  20,  33],\n         [ 18,  25,  37],\n         [ 11,  18,  29]],\n\n        [[ 63,  82, 119],\n         [ 55,  74, 109],\n         [ 49,  66,  99],\n         ...,\n         [ 13,  21,  34],\n         [ 21,  30,  41],\n         [ 17,  25,  34]]],\n\n\n       [[[ 70,  75, 107],\n         [ 25,  29,  42],\n         [ 11,  12,  27],\n         ...,\n         [ 25,  36,  48],\n         [ 42,  52,  62],\n         [ 21,  31,  40]],\n\n        [[ 74,  80, 115],\n         [ 21,  24,  37],\n         [  5,   9,  23],\n         ...,\n         [ 37,  46,  58],\n         [ 32,  42,  52],\n         [ 32,  42,  52]],\n\n        [[ 78,  85, 116],\n         [ 12,  16,  29],\n         [  4,   8,  21],\n         ...,\n         [ 39,  48,  60],\n         [ 30,  41,  53],\n         [ 29,  41,  51]],\n\n        ...,\n\n        [[  8,  16,  31],\n         [  2,   8,  23],\n         [  0,   6,  19],\n         ...,\n         [ 12,  20,  33],\n         [ 15,  21,  34],\n         [  3,  12,  26]],\n\n        [[  7,  17,  34],\n         [  3,  11,  26],\n         [  1,   9,  24],\n         ...,\n         [  9,  17,  32],\n         [ 15,  23,  38],\n         [  8,  16,  31]],\n\n        [[ 10,  20,  37],\n         [  4,  14,  32],\n         [  4,  12,  31],\n         ...,\n         [ 10,  17,  32],\n         [  9,  17,  32],\n         [ 17,  25,  40]]],\n\n\n       [[[ 74,  79, 110],\n         [ 38,  41,  58],\n         [ 16,  17,  33],\n         ...,\n         [ 26,  31,  41],\n         [ 31,  36,  44],\n         [ 24,  29,  37]],\n\n        [[ 80,  85, 116],\n         [ 44,  49,  64],\n         [ 12,  14,  25],\n         ...,\n         [ 30,  37,  47],\n         [ 24,  31,  41],\n         [ 31,  36,  44]],\n\n        [[ 80,  83, 113],\n         [ 37,  41,  52],\n         [ 12,  17,  26],\n         ...,\n         [ 25,  34,  45],\n         [ 36,  43,  53],\n         [ 32,  39,  49]],\n\n        ...,\n\n        [[  9,  16,  26],\n         [  4,  12,  20],\n         [  5,  10,  19],\n         ...,\n         [  9,  17,  23],\n         [  5,  11,  15],\n         [  5,  11,  15]],\n\n        [[  2,   9,  17],\n         [  2,   7,  13],\n         [  2,   7,  13],\n         ...,\n         [ 11,  19,  27],\n         [  5,  11,  17],\n         [  4,  10,  14]],\n\n        [[  3,   8,  16],\n         [  0,   6,  12],\n         [  1,   6,  12],\n         ...,\n         [ 11,  19,  26],\n         [  8,  16,  21],\n         [  6,  12,  16]]],\n\n\n       ...,\n\n\n       [[[ 68,  76, 111],\n         [ 31,  36,  52],\n         [  4,   9,  19],\n         ...,\n         [ 29,  34,  40],\n         [ 37,  45,  49],\n         [ 24,  29,  35]],\n\n        [[ 48,  50,  79],\n         [ 11,  14,  22],\n         [  6,  11,  19],\n         ...,\n         [ 17,  25,  34],\n         [ 39,  45,  51],\n         [ 36,  42,  48]],\n\n        [[ 15,  18,  28],\n         [  7,  10,  19],\n         [  9,  14,  22],\n         ...,\n         [ 17,  24,  35],\n         [ 40,  48,  54],\n         [ 39,  47,  53]],\n\n        ...,\n\n        [[  6,  13,  24],\n         [ 10,  17,  28],\n         [  8,  14,  27],\n         ...,\n         [  2,   4,   8],\n         [  2,   4,   8],\n         [  2,   4,   8]],\n\n        [[  3,   9,  22],\n         [  3,   9,  22],\n         [  8,  14,  27],\n         ...,\n         [  3,   5,  10],\n         [  4,   8,  12],\n         [  4,   7,  10]],\n\n        [[  3,   9,  22],\n         [  4,  11,  23],\n         [ 10,  17,  32],\n         ...,\n         [ 12,  18,  22],\n         [ 13,  19,  25],\n         [  6,  10,  14]]],\n\n\n       [[[ 57,  60,  96],\n         [ 20,  22,  34],\n         [  5,   7,  18],\n         ...,\n         [ 31,  37,  43],\n         [ 43,  49,  53],\n         [ 32,  35,  41]],\n\n        [[ 58,  63, 100],\n         [ 21,  25,  34],\n         [  6,   9,  17],\n         ...,\n         [ 23,  29,  37],\n         [ 34,  40,  46],\n         [ 34,  41,  44]],\n\n        [[ 33,  36,  56],\n         [ 10,  11,  20],\n         [ 10,  12,  22],\n         ...,\n         [ 23,  29,  38],\n         [ 39,  47,  52],\n         [ 30,  36,  40]],\n\n        ...,\n\n        [[  4,  10,  25],\n         [ 11,  16,  31],\n         [  5,  11,  26],\n         ...,\n         [  2,   4,   7],\n         [  1,   4,   8],\n         [  0,   4,   8]],\n\n        [[  2,   8,  23],\n         [  3,   9,  24],\n         [  4,  11,  25],\n         ...,\n         [  3,   7,  11],\n         [  2,   5,  11],\n         [  2,   6,  11]],\n\n        [[  4,  10,  25],\n         [  4,  10,  25],\n         [  8,  15,  33],\n         ...,\n         [ 12,  15,  21],\n         [  7,  13,  19],\n         [  5,   9,  13]]],\n\n\n       [[[ 56,  59,  95],\n         [ 40,  45,  65],\n         [ 25,  29,  40],\n         ...,\n         [ 24,  30,  34],\n         [ 37,  46,  47],\n         [ 24,  33,  34]],\n\n        [[ 68,  76, 109],\n         [ 69,  78, 107],\n         [ 12,  17,  24],\n         ...,\n         [ 46,  55,  56],\n         [ 24,  33,  37],\n         [ 16,  24,  28]],\n\n        [[ 52,  58,  93],\n         [ 32,  38,  58],\n         [ 12,  15,  21],\n         ...,\n         [ 30,  35,  41],\n         [ 40,  46,  50],\n         [ 23,  31,  35]],\n\n        ...,\n\n        [[  2,   8,  23],\n         [  6,  12,  27],\n         [  8,  14,  27],\n         ...,\n         [  1,   2,   9],\n         [  2,   4,   8],\n         [  1,   5,  11]],\n\n        [[  1,   9,  24],\n         [  3,   9,  24],\n         [  4,  10,  25],\n         ...,\n         [  5,  11,  15],\n         [  6,   9,  16],\n         [  3,   6,  10]],\n\n        [[  6,  15,  33],\n         [  4,  12,  29],\n         [  8,  15,  33],\n         ...,\n         [ 13,  22,  25],\n         [  5,  12,  18],\n         [  5,  11,  17]]]], dtype=uint8)"
     },
     "execution_count": 16,
     "metadata": {},
     "output_type": "execute_result"
    }
   ],
   "source": [
    "visages"
   ]
  },
  {
   "cell_type": "code",
   "execution_count": 17,
   "id": "a8436555",
   "metadata": {
    "ExecuteTime": {
     "end_time": "2024-02-26T14:04:34.238483Z",
     "start_time": "2024-02-26T14:04:34.236119Z"
    }
   },
   "outputs": [
    {
     "data": {
      "text/plain": "(60, 50, 50, 3)"
     },
     "execution_count": 17,
     "metadata": {},
     "output_type": "execute_result"
    }
   ],
   "source": [
    "visages.shape"
   ]
  },
  {
   "cell_type": "code",
   "execution_count": 18,
   "id": "1ef19a8e",
   "metadata": {
    "ExecuteTime": {
     "end_time": "2024-02-26T14:04:34.760930Z",
     "start_time": "2024-02-26T14:04:34.758220Z"
    }
   },
   "outputs": [
    {
     "data": {
      "text/plain": "(50, 50, 3)"
     },
     "execution_count": 18,
     "metadata": {},
     "output_type": "execute_result"
    }
   ],
   "source": [
    "sample_1 = visages[0]\n",
    "sample_1.shape"
   ]
  },
  {
   "cell_type": "code",
   "execution_count": 19,
   "id": "c3539263",
   "metadata": {
    "ExecuteTime": {
     "end_time": "2024-02-26T14:04:35.309618Z",
     "start_time": "2024-02-26T14:04:35.261527Z"
    }
   },
   "outputs": [
    {
     "data": {
      "text/plain": "<matplotlib.image.AxesImage at 0x14eec4450>"
     },
     "execution_count": 19,
     "metadata": {},
     "output_type": "execute_result"
    },
    {
     "data": {
      "text/plain": "<Figure size 640x480 with 1 Axes>",
      "image/png": "[encoded data removed]"
     },
     "metadata": {},
     "output_type": "display_data"
    }
   ],
   "source": [
    "plt.imshow(sample_1, interpolation=\"nearest\")"
   ]
  },
  {
   "cell_type": "code",
   "execution_count": 20,
   "id": "ac4aaef1",
   "metadata": {
    "ExecuteTime": {
     "end_time": "2024-02-26T14:04:35.932025Z",
     "start_time": "2024-02-26T14:04:35.929366Z"
    }
   },
   "outputs": [
    {
     "data": {
      "text/plain": "(50, 50, 3)"
     },
     "execution_count": 20,
     "metadata": {},
     "output_type": "execute_result"
    }
   ],
   "source": [
    "sample_2 = visages[5]\n",
    "sample_2.shape"
   ]
  },
  {
   "cell_type": "code",
   "execution_count": 21,
   "id": "ed489bfa",
   "metadata": {
    "ExecuteTime": {
     "end_time": "2024-02-26T14:04:36.975337Z",
     "start_time": "2024-02-26T14:04:36.923397Z"
    }
   },
   "outputs": [
    {
     "data": {
      "text/plain": "<matplotlib.image.AxesImage at 0x14ea37690>"
     },
     "execution_count": 21,
     "metadata": {},
     "output_type": "execute_result"
    },
    {
     "data": {
      "text/plain": "<Figure size 640x480 with 1 Axes>",
      "image/png": "[encoded data removed]"
     },
     "metadata": {},
     "output_type": "display_data"
    }
   ],
   "source": [
    "plt.imshow(sample_2, interpolation=\"nearest\")"
   ]
  },
  {
   "cell_type": "code",
   "execution_count": null,
   "id": "06a26147",
   "metadata": {},
   "outputs": [],
   "source": []
  }
 ],
 "metadata": {
  "kernelspec": {
   "name": "python3",
   "language": "python",
   "display_name": "Python 3 (ipykernel)"
  },
  "language_info": {
   "codemirror_mode": {
    "name": "ipython",
    "version": 3
   },
   "file_extension": ".py",
   "mimetype": "text/x-python",
   "name": "python",
   "nbconvert_exporter": "python",
   "pygments_lexer": "ipython3",
   "version": "3.9.5"
  }
 },
 "nbformat": 4,
 "nbformat_minor": 5
}
